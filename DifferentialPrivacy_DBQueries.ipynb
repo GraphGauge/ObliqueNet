{
  "nbformat": 4,
  "nbformat_minor": 0,
  "metadata": {
    "colab": {
      "name": "DifferentialPrivacy_DBQueries.ipynb",
      "provenance": [],
      "authorship_tag": "ABX9TyO5oi8B8BH49xZT1v9e/hVq",
      "include_colab_link": true
    },
    "kernelspec": {
      "name": "python3",
      "display_name": "Python 3"
    }
  },
  "cells": [
    {
      "cell_type": "markdown",
      "metadata": {
        "id": "view-in-github",
        "colab_type": "text"
      },
      "source": [
        "<a href=\"https://colab.research.google.com/github/GraphGauge/ObliqueNet/blob/main/DifferentialPrivacy_DBQueries.ipynb\" target=\"_parent\"><img src=\"https://colab.research.google.com/assets/colab-badge.svg\" alt=\"Open In Colab\"/></a>"
      ]
    },
    {
      "cell_type": "code",
      "metadata": {
        "id": "BFziWVFwY8m5",
        "outputId": "f99ae5a0-a7da-426a-9afa-9a61e0afbcca",
        "colab": {
          "base_uri": "https://localhost:8080/"
        }
      },
      "source": [
        "import torch\n",
        "num_entries = 5000\n",
        "db = torch.rand(num_entries) > 0.5\n",
        "db"
      ],
      "execution_count": 2,
      "outputs": [
        {
          "output_type": "execute_result",
          "data": {
            "text/plain": [
              "tensor([False,  True,  True,  ...,  True,  True,  True])"
            ]
          },
          "metadata": {
            "tags": []
          },
          "execution_count": 2
        }
      ]
    },
    {
      "cell_type": "markdown",
      "metadata": {
        "id": "43IKAvAmGoiK"
      },
      "source": [
        "Generate Parallel Database"
      ]
    },
    {
      "cell_type": "code",
      "metadata": {
        "id": "d3TJCaQmGr6P"
      },
      "source": [
        "def create_parallel_db(db, remove_index):\n",
        "    return torch.cat((db[0:remove_index], db[remove_index+1:]))"
      ],
      "execution_count": 4,
      "outputs": []
    },
    {
      "cell_type": "code",
      "metadata": {
        "id": "qXgDknGFQMdi"
      },
      "source": [
        "def create_parallel_dbs(db):\n",
        "    parallel_dbs = list()\n",
        "    for i in range(len(db)):\n",
        "        pdb = create_parallel_db(db, i)\n",
        "        parallel_dbs.append(pdb)\n",
        "    return parallel_dbs"
      ],
      "execution_count": 5,
      "outputs": []
    },
    {
      "cell_type": "code",
      "metadata": {
        "id": "uZugUSZCQS8G"
      },
      "source": [
        "def create_db_and_parallels(num_entries):\n",
        "    # generate dbs and parallel dbs on the fly\n",
        "    db = torch.rand(num_entries) > 0.5\n",
        "    pdbs = create_parallel_dbs(db)\n",
        "    \n",
        "    return db, pdbs"
      ],
      "execution_count": 6,
      "outputs": []
    },
    {
      "cell_type": "code",
      "metadata": {
        "id": "7ofTcKeOQXQq",
        "outputId": "c6be108d-dd44-45b4-806a-ea40b1b396ae",
        "colab": {
          "base_uri": "https://localhost:8080/"
        }
      },
      "source": [
        "db, pdbs = create_db_and_parallels(10)\n",
        "pdbs\n",
        "print(\"Real database:\", db)\n",
        "print(\"Size of real DB\", db.size())\n",
        "print(\"A sample parallel DB\", pdbs[0])\n",
        "print(\"Size of parallel DB\", pdbs[0].size())"
      ],
      "execution_count": 7,
      "outputs": [
        {
          "output_type": "stream",
          "text": [
            "Real database: tensor([False, False, False,  True, False,  True,  True, False, False, False])\n",
            "Size of real DB torch.Size([10])\n",
            "A sample parallel DB tensor([False, False,  True, False,  True,  True, False, False, False])\n",
            "Size of parallel DB torch.Size([9])\n"
          ],
          "name": "stdout"
        }
      ]
    },
    {
      "cell_type": "code",
      "metadata": {
        "id": "wPrxjD_DQhY4"
      },
      "source": [
        "db, pdbs = create_db_and_parallels(200)\n",
        "def query(db):\n",
        "    return db.sum()"
      ],
      "execution_count": 8,
      "outputs": []
    },
    {
      "cell_type": "code",
      "metadata": {
        "id": "n--FkNqAQkt2",
        "outputId": "feeb67a7-d2aa-4b93-b9e1-8715495872ec",
        "colab": {
          "base_uri": "https://localhost:8080/"
        }
      },
      "source": [
        "query(db)"
      ],
      "execution_count": 9,
      "outputs": [
        {
          "output_type": "execute_result",
          "data": {
            "text/plain": [
              "tensor(108)"
            ]
          },
          "metadata": {
            "tags": []
          },
          "execution_count": 9
        }
      ]
    },
    {
      "cell_type": "code",
      "metadata": {
        "id": "LIoxnZxxQomh",
        "outputId": "82aada4d-a637-448a-e6e0-f1b94527697c",
        "colab": {
          "base_uri": "https://localhost:8080/"
        }
      },
      "source": [
        "query(pdbs[1])"
      ],
      "execution_count": 10,
      "outputs": [
        {
          "output_type": "execute_result",
          "data": {
            "text/plain": [
              "tensor(107)"
            ]
          },
          "metadata": {
            "tags": []
          },
          "execution_count": 10
        }
      ]
    },
    {
      "cell_type": "code",
      "metadata": {
        "id": "xPVjpUeNQuxD",
        "outputId": "2ec38c7a-07bf-4296-96f3-2492bb75a265",
        "colab": {
          "base_uri": "https://localhost:8080/"
        }
      },
      "source": [
        "full_db_result = query(db)\n",
        "print(full_db_result)"
      ],
      "execution_count": 11,
      "outputs": [
        {
          "output_type": "stream",
          "text": [
            "tensor(108)\n"
          ],
          "name": "stdout"
        }
      ]
    },
    {
      "cell_type": "code",
      "metadata": {
        "id": "CAPiPyy9QzNP"
      },
      "source": [
        "sensitivity = 0\n",
        "sensitivity_scale = []\n",
        "for pdb in pdbs:\n",
        "    pdb_result = query(pdb)\n",
        "    db_distance = torch.abs(pdb_result - full_db_result)\n",
        "    if(db_distance > sensitivity):\n",
        "        sensitivity_scale.append(db_distance)\n",
        "        sensitivity = db_distance"
      ],
      "execution_count": 13,
      "outputs": []
    },
    {
      "cell_type": "code",
      "metadata": {
        "id": "nlrXcx3aQ31F",
        "outputId": "78127575-1060-462b-e2a8-9c5181a1e19e",
        "colab": {
          "base_uri": "https://localhost:8080/"
        }
      },
      "source": [
        "sensitivity"
      ],
      "execution_count": 14,
      "outputs": [
        {
          "output_type": "execute_result",
          "data": {
            "text/plain": [
              "tensor(1)"
            ]
          },
          "metadata": {
            "tags": []
          },
          "execution_count": 14
        }
      ]
    },
    {
      "cell_type": "code",
      "metadata": {
        "id": "z6av-WuHRDNa"
      },
      "source": [
        "def sensitivity(query, num_entries=1000):\n",
        "    db, pdbs = create_db_and_parallels(num_entries)\n",
        "    \n",
        "    full_db_result = query(db)\n",
        "    \n",
        "    max_distance = 0\n",
        "    for pdb in pdbs:\n",
        "        # for each parallel db, execute the query (sum, or mean, ..., etc)\n",
        "        pdb_result = query(pdb)\n",
        "        db_distance = torch.abs(pdb_result - full_db_result)\n",
        "        \n",
        "        if (db_distance > max_distance):\n",
        "            max_distance = db_distance\n",
        "\n",
        "    return max_distance"
      ],
      "execution_count": 15,
      "outputs": []
    },
    {
      "cell_type": "code",
      "metadata": {
        "id": "DvPyjbLIRGMO"
      },
      "source": [
        "# our query is now the mean\n",
        "def query(db):\n",
        "    return db.float().mean()"
      ],
      "execution_count": 17,
      "outputs": []
    },
    {
      "cell_type": "code",
      "metadata": {
        "id": "uv16UJYDRKdb",
        "outputId": "9d8fc34f-211a-48d8-f5a5-422288019046",
        "colab": {
          "base_uri": "https://localhost:8080/"
        }
      },
      "source": [
        "sensitivity(query)"
      ],
      "execution_count": 18,
      "outputs": [
        {
          "output_type": "execute_result",
          "data": {
            "text/plain": [
              "tensor(0.0005)"
            ]
          },
          "metadata": {
            "tags": []
          },
          "execution_count": 18
        }
      ]
    }
  ]
}