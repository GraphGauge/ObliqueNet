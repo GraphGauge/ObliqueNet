{
  "nbformat": 4,
  "nbformat_minor": 0,
  "metadata": {
    "colab": {
      "name": "DifferentialPrivacy_IBMEngine_IrisDataSet_001.ipynb",
      "provenance": [],
      "authorship_tag": "ABX9TyP8SjJ7SxvXKpGoPBBC9FWf",
      "include_colab_link": true
    },
    "kernelspec": {
      "name": "python3",
      "display_name": "Python 3"
    }
  },
  "cells": [
    {
      "cell_type": "markdown",
      "metadata": {
        "id": "view-in-github",
        "colab_type": "text"
      },
      "source": [
        "<a href=\"https://colab.research.google.com/github/GraphGauge/ObliqueNet/blob/main/DifferentialPrivacy_IBMEngine_IrisDataSet_001.ipynb\" target=\"_parent\"><img src=\"https://colab.research.google.com/assets/colab-badge.svg\" alt=\"Open In Colab\"/></a>"
      ]
    },
    {
      "cell_type": "code",
      "metadata": {
        "id": "gvgb8m0NS0tO"
      },
      "source": [
        "from sklearn import datasets\n",
        "from sklearn.model_selection import train_test_split\n",
        "\n",
        "dataset = datasets.load_iris()\n",
        "X_train, X_test, y_train, y_test = train_test_split(dataset.data, dataset.target, test_size=0.2)"
      ],
      "execution_count": 1,
      "outputs": []
    },
    {
      "cell_type": "code",
      "metadata": {
        "id": "GQpfkXkNU4Xl",
        "outputId": "4ca71da7-3e7c-4a5d-f807-82594299c60d",
        "colab": {
          "base_uri": "https://localhost:8080/"
        }
      },
      "source": [
        "pip install diffprivlib"
      ],
      "execution_count": 3,
      "outputs": [
        {
          "output_type": "stream",
          "text": [
            "Collecting diffprivlib\n",
            "\u001b[?25l  Downloading https://files.pythonhosted.org/packages/fe/b8/852409057d6acc060f06cac8d0a45b73dfa54ee4fbd1577c9a7d755e9fb6/diffprivlib-0.3.0.tar.gz (70kB)\n",
            "\r\u001b[K     |████▋                           | 10kB 15.4MB/s eta 0:00:01\r\u001b[K     |█████████▎                      | 20kB 20.1MB/s eta 0:00:01\r\u001b[K     |██████████████                  | 30kB 23.5MB/s eta 0:00:01\r\u001b[K     |██████████████████▋             | 40kB 20.1MB/s eta 0:00:01\r\u001b[K     |███████████████████████▎        | 51kB 16.6MB/s eta 0:00:01\r\u001b[K     |████████████████████████████    | 61kB 17.5MB/s eta 0:00:01\r\u001b[K     |████████████████████████████████| 71kB 6.6MB/s \n",
            "\u001b[?25hRequirement already satisfied: numpy>=1.15.0 in /usr/local/lib/python3.6/dist-packages (from diffprivlib) (1.18.5)\n",
            "Requirement already satisfied: setuptools>=39.0.1 in /usr/local/lib/python3.6/dist-packages (from diffprivlib) (50.3.2)\n",
            "Requirement already satisfied: scikit-learn>=0.22.0 in /usr/local/lib/python3.6/dist-packages (from diffprivlib) (0.22.2.post1)\n",
            "Requirement already satisfied: scipy>=1.2.1 in /usr/local/lib/python3.6/dist-packages (from diffprivlib) (1.4.1)\n",
            "Requirement already satisfied: joblib>=0.11 in /usr/local/lib/python3.6/dist-packages (from diffprivlib) (0.17.0)\n",
            "Building wheels for collected packages: diffprivlib\n",
            "  Building wheel for diffprivlib (setup.py) ... \u001b[?25l\u001b[?25hdone\n",
            "  Created wheel for diffprivlib: filename=diffprivlib-0.3.0-cp36-none-any.whl size=138999 sha256=732832866d94aea2f81c502eca1cb4ac53bcd1dea52cfa8dcff767512eec3e3e\n",
            "  Stored in directory: /root/.cache/pip/wheels/64/68/62/617183f73d3feceab2c9d4081714a27bc11be5bb3f10f59b8a\n",
            "Successfully built diffprivlib\n",
            "Installing collected packages: diffprivlib\n",
            "Successfully installed diffprivlib-0.3.0\n"
          ],
          "name": "stdout"
        }
      ]
    },
    {
      "cell_type": "code",
      "metadata": {
        "id": "n_SCr9DWUvRx",
        "outputId": "c5f23603-54f9-47bc-a0f6-de916e364059",
        "colab": {
          "base_uri": "https://localhost:8080/"
        }
      },
      "source": [
        "from diffprivlib.models import GaussianNB\n",
        "\n",
        "clf = GaussianNB()\n",
        "clf.fit(X_train, y_train)"
      ],
      "execution_count": 4,
      "outputs": [
        {
          "output_type": "stream",
          "text": [
            "/usr/local/lib/python3.6/dist-packages/diffprivlib/models/naive_bayes.py:102: PrivacyLeakWarning: Bounds have not been specified and will be calculated on the data provided. This will result in additional privacy leakage. To ensure differential privacy and no additional privacy leakage, specify bounds for each dimension.\n",
            "  \"privacy leakage, specify bounds for each dimension.\", PrivacyLeakWarning)\n"
          ],
          "name": "stderr"
        },
        {
          "output_type": "execute_result",
          "data": {
            "text/plain": [
              "GaussianNB(accountant=BudgetAccountant(spent_budget=[(1.0, 0)]),\n",
              "           bounds=(array([4.3, 2. , 1. , 0.1]), array([7.7, 4.4, 6.9, 2.5])),\n",
              "           epsilon=1.0, priors=None, var_smoothing=1e-09)"
            ]
          },
          "metadata": {
            "tags": []
          },
          "execution_count": 4
        }
      ]
    },
    {
      "cell_type": "code",
      "metadata": {
        "id": "AlZfl74bVE5_",
        "outputId": "06c0e070-559d-41ce-ec8e-3e679011005f",
        "colab": {
          "base_uri": "https://localhost:8080/"
        }
      },
      "source": [
        "clf.predict(X_test)"
      ],
      "execution_count": 5,
      "outputs": [
        {
          "output_type": "execute_result",
          "data": {
            "text/plain": [
              "array([0, 1, 1, 0, 1, 0, 2, 1, 1, 0, 2, 1, 0, 2, 1, 0, 1, 1, 1, 1, 1, 1,\n",
              "       1, 1, 2, 2, 0, 1, 2, 0])"
            ]
          },
          "metadata": {
            "tags": []
          },
          "execution_count": 5
        }
      ]
    },
    {
      "cell_type": "code",
      "metadata": {
        "id": "uBwOCiM_VMuv",
        "outputId": "8998d681-23d4-40fd-b364-9de988b417e4",
        "colab": {
          "base_uri": "https://localhost:8080/"
        }
      },
      "source": [
        "print(\"Test accuracy: %f\" % clf.score(X_test, y_test))"
      ],
      "execution_count": 6,
      "outputs": [
        {
          "output_type": "stream",
          "text": [
            "Test accuracy: 0.466667\n"
          ],
          "name": "stdout"
        }
      ]
    }
  ]
}